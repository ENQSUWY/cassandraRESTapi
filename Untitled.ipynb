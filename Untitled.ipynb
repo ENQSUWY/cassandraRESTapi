{
 "cells": [
  {
   "cell_type": "code",
   "execution_count": 1,
   "metadata": {},
   "outputs": [],
   "source": [
    "from cassandra.auth import PlainTextAuthProvider\n",
    "import config as cfg\n",
    "from cassandra.query import BatchStatement, SimpleStatement\n",
    "from prettytable import PrettyTable\n",
    "import time\n",
    "import ssl\n",
    "import cassandra\n",
    "from cassandra.cluster import Cluster\n",
    "from cassandra.policies import *\n",
    "from ssl import PROTOCOL_TLSv1_2, SSLContext, CERT_NONE\n",
    "from requests.utils import DEFAULT_CA_BUNDLE_PATH\n",
    "import uuid"
   ]
  },
  {
   "cell_type": "code",
   "execution_count": 4,
   "metadata": {},
   "outputs": [],
   "source": [
    "def PrintTable(rows):\n",
    "    t = PrettyTable(['player_id', 'ts', 'country', 'event','session_id'])\n",
    "    for r in rows:\n",
    "        t.add_row([r.player_id, r.ts, r.country, r.event, r.session_id])\n",
    "    print (t)"
   ]
  },
  {
   "cell_type": "code",
   "execution_count": 2,
   "metadata": {},
   "outputs": [],
   "source": [
    "ssl_context = SSLContext(PROTOCOL_TLSv1_2)\n",
    "ssl_context.verify_mode = CERT_NONE\n",
    "auth_provider = PlainTextAuthProvider(username=cfg.config['username'], password=cfg.config['password'])\n",
    "cluster = Cluster([cfg.config['contactPoint']], port = cfg.config['port'], auth_provider=auth_provider,ssl_context=ssl_context)\n",
    "session = cluster.connect()"
   ]
  },
  {
   "cell_type": "code",
   "execution_count": 5,
   "metadata": {},
   "outputs": [
    {
     "name": "stdout",
     "output_type": "stream",
     "text": [
      "+-----------+----+---------+-------+------------+\n",
      "| player_id | ts | country | event | session_id |\n",
      "+-----------+----+---------+-------+------------+\n",
      "+-----------+----+---------+-------+------------+\n"
     ]
    }
   ],
   "source": [
    "rows = session.execute('SELECT * FROM uprofile.events_by_user')\n",
    "PrintTable(rows)"
   ]
  },
  {
   "cell_type": "code",
   "execution_count": null,
   "metadata": {},
   "outputs": [],
   "source": []
  }
 ],
 "metadata": {
  "kernelspec": {
   "display_name": "Python 3.8.5 64-bit ('Et': conda)",
   "language": "python",
   "name": "python38564bitetconda435e48fdda5b4c02a57080509828917f"
  },
  "language_info": {
   "codemirror_mode": {
    "name": "ipython",
    "version": 3
   },
   "file_extension": ".py",
   "mimetype": "text/x-python",
   "name": "python",
   "nbconvert_exporter": "python",
   "pygments_lexer": "ipython3",
   "version": "3.8.5"
  }
 },
 "nbformat": 4,
 "nbformat_minor": 4
}
